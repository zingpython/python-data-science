{
 "cells": [
  {
   "cell_type": "code",
   "execution_count": 6,
   "metadata": {
    "collapsed": false,
    "scrolled": false
   },
   "outputs": [],
   "source": [
    "import pandas as pd \n",
    "import pandas_datareader.data as web\n",
    "import matplotlib.pyplot as plt \n",
    "from matplotlib.finance import candlestick_ohlc\n",
    "import matplotlib.dates as mdates"
   ]
  },
  {
   "cell_type": "code",
   "execution_count": 7,
   "metadata": {
    "collapsed": true
   },
   "outputs": [],
   "source": [
    "import datetime\n",
    "from datetime import date"
   ]
  },
  {
   "cell_type": "code",
   "execution_count": 8,
   "metadata": {
    "collapsed": true
   },
   "outputs": [],
   "source": [
    "start = date(2016,1,1)\n",
    "end = date.today()"
   ]
  },
  {
   "cell_type": "code",
   "execution_count": 9,
   "metadata": {
    "collapsed": true
   },
   "outputs": [],
   "source": [
    "stock_price = web.DataReader(\"TWTR\", \"google\", start, end)"
   ]
  },
  {
   "cell_type": "code",
   "execution_count": 10,
   "metadata": {
    "collapsed": false
   },
   "outputs": [
    {
     "data": {
      "text/html": [
       "<div>\n",
       "<table border=\"1\" class=\"dataframe\">\n",
       "  <thead>\n",
       "    <tr style=\"text-align: right;\">\n",
       "      <th></th>\n",
       "      <th>Open</th>\n",
       "      <th>High</th>\n",
       "      <th>Low</th>\n",
       "      <th>Close</th>\n",
       "      <th>Volume</th>\n",
       "    </tr>\n",
       "    <tr>\n",
       "      <th>Date</th>\n",
       "      <th></th>\n",
       "      <th></th>\n",
       "      <th></th>\n",
       "      <th></th>\n",
       "      <th></th>\n",
       "    </tr>\n",
       "  </thead>\n",
       "  <tbody>\n",
       "    <tr>\n",
       "      <th>2017-07-14</th>\n",
       "      <td>19.35</td>\n",
       "      <td>19.97</td>\n",
       "      <td>19.33</td>\n",
       "      <td>19.64</td>\n",
       "      <td>20835473</td>\n",
       "    </tr>\n",
       "    <tr>\n",
       "      <th>2017-07-17</th>\n",
       "      <td>19.80</td>\n",
       "      <td>20.24</td>\n",
       "      <td>19.73</td>\n",
       "      <td>19.94</td>\n",
       "      <td>24152845</td>\n",
       "    </tr>\n",
       "    <tr>\n",
       "      <th>2017-07-18</th>\n",
       "      <td>19.76</td>\n",
       "      <td>19.99</td>\n",
       "      <td>19.41</td>\n",
       "      <td>19.98</td>\n",
       "      <td>15554456</td>\n",
       "    </tr>\n",
       "    <tr>\n",
       "      <th>2017-07-19</th>\n",
       "      <td>20.03</td>\n",
       "      <td>20.21</td>\n",
       "      <td>19.83</td>\n",
       "      <td>20.12</td>\n",
       "      <td>13469807</td>\n",
       "    </tr>\n",
       "    <tr>\n",
       "      <th>2017-07-20</th>\n",
       "      <td>20.18</td>\n",
       "      <td>20.88</td>\n",
       "      <td>20.18</td>\n",
       "      <td>20.53</td>\n",
       "      <td>24792686</td>\n",
       "    </tr>\n",
       "  </tbody>\n",
       "</table>\n",
       "</div>"
      ],
      "text/plain": [
       "             Open   High    Low  Close    Volume\n",
       "Date                                            \n",
       "2017-07-14  19.35  19.97  19.33  19.64  20835473\n",
       "2017-07-17  19.80  20.24  19.73  19.94  24152845\n",
       "2017-07-18  19.76  19.99  19.41  19.98  15554456\n",
       "2017-07-19  20.03  20.21  19.83  20.12  13469807\n",
       "2017-07-20  20.18  20.88  20.18  20.53  24792686"
      ]
     },
     "execution_count": 10,
     "metadata": {},
     "output_type": "execute_result"
    }
   ],
   "source": [
    "stock_price.tail()"
   ]
  },
  {
   "cell_type": "code",
   "execution_count": 11,
   "metadata": {
    "collapsed": false
   },
   "outputs": [
    {
     "data": {
      "text/html": [
       "<div>\n",
       "<table border=\"1\" class=\"dataframe\">\n",
       "  <thead>\n",
       "    <tr style=\"text-align: right;\">\n",
       "      <th></th>\n",
       "      <th>open</th>\n",
       "      <th>high</th>\n",
       "      <th>low</th>\n",
       "      <th>close</th>\n",
       "    </tr>\n",
       "    <tr>\n",
       "      <th>Date</th>\n",
       "      <th></th>\n",
       "      <th></th>\n",
       "      <th></th>\n",
       "      <th></th>\n",
       "    </tr>\n",
       "  </thead>\n",
       "  <tbody>\n",
       "    <tr>\n",
       "      <th>2017-06-07</th>\n",
       "      <td>17.44</td>\n",
       "      <td>17.59</td>\n",
       "      <td>16.67</td>\n",
       "      <td>16.67</td>\n",
       "    </tr>\n",
       "    <tr>\n",
       "      <th>2017-06-17</th>\n",
       "      <td>17.06</td>\n",
       "      <td>18.50</td>\n",
       "      <td>16.91</td>\n",
       "      <td>18.29</td>\n",
       "    </tr>\n",
       "    <tr>\n",
       "      <th>2017-06-27</th>\n",
       "      <td>18.12</td>\n",
       "      <td>18.12</td>\n",
       "      <td>17.65</td>\n",
       "      <td>17.92</td>\n",
       "    </tr>\n",
       "    <tr>\n",
       "      <th>2017-07-07</th>\n",
       "      <td>18.02</td>\n",
       "      <td>19.64</td>\n",
       "      <td>18.02</td>\n",
       "      <td>19.64</td>\n",
       "    </tr>\n",
       "    <tr>\n",
       "      <th>2017-07-17</th>\n",
       "      <td>19.94</td>\n",
       "      <td>20.53</td>\n",
       "      <td>19.94</td>\n",
       "      <td>20.53</td>\n",
       "    </tr>\n",
       "  </tbody>\n",
       "</table>\n",
       "</div>"
      ],
      "text/plain": [
       "             open   high    low  close\n",
       "Date                                  \n",
       "2017-06-07  17.44  17.59  16.67  16.67\n",
       "2017-06-17  17.06  18.50  16.91  18.29\n",
       "2017-06-27  18.12  18.12  17.65  17.92\n",
       "2017-07-07  18.02  19.64  18.02  19.64\n",
       "2017-07-17  19.94  20.53  19.94  20.53"
      ]
     },
     "execution_count": 11,
     "metadata": {},
     "output_type": "execute_result"
    }
   ],
   "source": [
    "ten_days = stock_price['Close'].resample('10D').ohlc()\n",
    "stock_volume = stock_price['Volume'].resample('10D').sum()\n",
    "# stock_volume.tail()\n",
    "ten_days.tail()"
   ]
  },
  {
   "cell_type": "code",
   "execution_count": 12,
   "metadata": {
    "collapsed": true
   },
   "outputs": [],
   "source": [
    "ten_days.reset_index(inplace=True)"
   ]
  },
  {
   "cell_type": "code",
   "execution_count": 13,
   "metadata": {
    "collapsed": false
   },
   "outputs": [
    {
     "data": {
      "text/html": [
       "<div>\n",
       "<table border=\"1\" class=\"dataframe\">\n",
       "  <thead>\n",
       "    <tr style=\"text-align: right;\">\n",
       "      <th></th>\n",
       "      <th>Date</th>\n",
       "      <th>open</th>\n",
       "      <th>high</th>\n",
       "      <th>low</th>\n",
       "      <th>close</th>\n",
       "    </tr>\n",
       "  </thead>\n",
       "  <tbody>\n",
       "    <tr>\n",
       "      <th>52</th>\n",
       "      <td>2017-06-07</td>\n",
       "      <td>17.44</td>\n",
       "      <td>17.59</td>\n",
       "      <td>16.67</td>\n",
       "      <td>16.67</td>\n",
       "    </tr>\n",
       "    <tr>\n",
       "      <th>53</th>\n",
       "      <td>2017-06-17</td>\n",
       "      <td>17.06</td>\n",
       "      <td>18.50</td>\n",
       "      <td>16.91</td>\n",
       "      <td>18.29</td>\n",
       "    </tr>\n",
       "    <tr>\n",
       "      <th>54</th>\n",
       "      <td>2017-06-27</td>\n",
       "      <td>18.12</td>\n",
       "      <td>18.12</td>\n",
       "      <td>17.65</td>\n",
       "      <td>17.92</td>\n",
       "    </tr>\n",
       "    <tr>\n",
       "      <th>55</th>\n",
       "      <td>2017-07-07</td>\n",
       "      <td>18.02</td>\n",
       "      <td>19.64</td>\n",
       "      <td>18.02</td>\n",
       "      <td>19.64</td>\n",
       "    </tr>\n",
       "    <tr>\n",
       "      <th>56</th>\n",
       "      <td>2017-07-17</td>\n",
       "      <td>19.94</td>\n",
       "      <td>20.53</td>\n",
       "      <td>19.94</td>\n",
       "      <td>20.53</td>\n",
       "    </tr>\n",
       "  </tbody>\n",
       "</table>\n",
       "</div>"
      ],
      "text/plain": [
       "         Date   open   high    low  close\n",
       "52 2017-06-07  17.44  17.59  16.67  16.67\n",
       "53 2017-06-17  17.06  18.50  16.91  18.29\n",
       "54 2017-06-27  18.12  18.12  17.65  17.92\n",
       "55 2017-07-07  18.02  19.64  18.02  19.64\n",
       "56 2017-07-17  19.94  20.53  19.94  20.53"
      ]
     },
     "execution_count": 13,
     "metadata": {},
     "output_type": "execute_result"
    }
   ],
   "source": [
    "ten_days.tail()"
   ]
  },
  {
   "cell_type": "code",
   "execution_count": 14,
   "metadata": {
    "collapsed": true
   },
   "outputs": [],
   "source": [
    "ten_days[\"Date\"] = ten_days[\"Date\"].map(mdates.date2num)"
   ]
  },
  {
   "cell_type": "code",
   "execution_count": 15,
   "metadata": {
    "collapsed": false
   },
   "outputs": [
    {
     "data": {
      "text/plain": [
       "52    736487.0\n",
       "53    736497.0\n",
       "54    736507.0\n",
       "55    736517.0\n",
       "56    736527.0\n",
       "Name: Date, dtype: float64"
      ]
     },
     "execution_count": 15,
     "metadata": {},
     "output_type": "execute_result"
    }
   ],
   "source": [
    "ten_days[\"Date\"].tail()"
   ]
  },
  {
   "cell_type": "code",
   "execution_count": 16,
   "metadata": {
    "collapsed": true
   },
   "outputs": [],
   "source": [
    "# https://matplotlib.org/users/gridspec.html\n",
    "# creating two figures\n",
    "price_fig = plt.subplot2grid((6,1),(0,0), rowspan=5, colspan=1)\n",
    "volume_fig = plt.subplot2grid((6,1),(5,0), rowspan=1, colspan=1, sharex=price_fig)"
   ]
  },
  {
   "cell_type": "code",
   "execution_count": 17,
   "metadata": {
    "collapsed": false
   },
   "outputs": [
    {
     "data": {
      "image/png": "[encoded data removed]",
      "text/plain": [
       "<matplotlib.figure.Figure at 0x10d8ec828>"
      ]
     },
     "metadata": {},
     "output_type": "display_data"
    }
   ],
   "source": [
    "# plotting data\n",
    "price_fig.xaxis_date()\n",
    "candlestick_ohlc(price_fig, ten_days.values, width=5)\n",
    "volume_fig.fill_between(stock_volume.index.map(mdates.date2num), stock_volume.values, 0)\n",
    "\n",
    "plt.show()"
   ]
  },
  {
   "cell_type": "code",
   "execution_count": null,
   "metadata": {
    "collapsed": true
   },
   "outputs": [],
   "source": []
  },
  {
   "cell_type": "code",
   "execution_count": null,
   "metadata": {
    "collapsed": true
   },
   "outputs": [],
   "source": []
  }
 ],
 "metadata": {
  "anaconda-cloud": {},
  "kernelspec": {
   "display_name": "Python [default]",
   "language": "python",
   "name": "python3"
  },
  "language_info": {
   "codemirror_mode": {
    "name": "ipython",
    "version": 3
   },
   "file_extension": ".py",
   "mimetype": "text/x-python",
   "name": "python",
   "nbconvert_exporter": "python",
   "pygments_lexer": "ipython3",
   "version": "3.5.2"
  }
 },
 "nbformat": 4,
 "nbformat_minor": 1
}
