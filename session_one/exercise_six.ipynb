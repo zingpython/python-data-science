{
 "cells": [
  {
   "cell_type": "code",
   "execution_count": 1,
   "metadata": {
    "collapsed": true
   },
   "outputs": [],
   "source": [
    "import pandas as pd"
   ]
  },
  {
   "cell_type": "code",
   "execution_count": 2,
   "metadata": {
    "collapsed": true
   },
   "outputs": [],
   "source": [
    "cities = [\"Philadelphia\", \"Boston\",\"Baltimore\", \"Orlando\"]"
   ]
  },
  {
   "cell_type": "code",
   "execution_count": 3,
   "metadata": {
    "collapsed": true
   },
   "outputs": [],
   "source": [
    "states = [\"PA\", \"MA\",\"MD\", \"FL\"]"
   ]
  },
  {
   "cell_type": "code",
   "execution_count": 4,
   "metadata": {
    "collapsed": true
   },
   "outputs": [],
   "source": [
    "population = [1.5,0.6,0.6,2.35]"
   ]
  },
  {
   "cell_type": "code",
   "execution_count": 5,
   "metadata": {
    "collapsed": true
   },
   "outputs": [],
   "source": [
    "visitors = [41,19,24,66]"
   ]
  },
  {
   "cell_type": "code",
   "execution_count": 6,
   "metadata": {
    "collapsed": true
   },
   "outputs": [],
   "source": [
    "list_labels = [\"City\",\"State\", \"Population\",\"Visitors\"]"
   ]
  },
  {
   "cell_type": "code",
   "execution_count": 8,
   "metadata": {
    "collapsed": false
   },
   "outputs": [
    {
     "data": {
      "text/plain": [
       "[['Philadelphia', 'Boston', 'Baltimore', 'Orlando'],\n",
       " ['PA', 'MA', 'MD', 'FL'],\n",
       " [1.5, 0.6, 0.6, 2.35],\n",
       " [41, 19, 24, 66]]"
      ]
     },
     "execution_count": 8,
     "metadata": {},
     "output_type": "execute_result"
    }
   ],
   "source": [
    "list_cols = [cities,states,population,visitors]\n",
    "list_cols"
   ]
  },
  {
   "cell_type": "code",
   "execution_count": 10,
   "metadata": {
    "collapsed": false
   },
   "outputs": [
    {
     "data": {
      "text/plain": [
       "{'City': ['Philadelphia', 'Boston', 'Baltimore', 'Orlando'],\n",
       " 'Population': [1.5, 0.6, 0.6, 2.35],\n",
       " 'State': ['PA', 'MA', 'MD', 'FL'],\n",
       " 'Visitors': [41, 19, 24, 66]}"
      ]
     },
     "execution_count": 10,
     "metadata": {},
     "output_type": "execute_result"
    }
   ],
   "source": [
    "zipped = list(zip(list_labels, list_cols))\n",
    "data = dict(zipped)\n",
    "data"
   ]
  },
  {
   "cell_type": "code",
   "execution_count": 11,
   "metadata": {
    "collapsed": false
   },
   "outputs": [
    {
     "data": {
      "text/html": [
       "<div>\n",
       "<table border=\"1\" class=\"dataframe\">\n",
       "  <thead>\n",
       "    <tr style=\"text-align: right;\">\n",
       "      <th></th>\n",
       "      <th>City</th>\n",
       "      <th>Population</th>\n",
       "      <th>State</th>\n",
       "      <th>Visitors</th>\n",
       "    </tr>\n",
       "  </thead>\n",
       "  <tbody>\n",
       "    <tr>\n",
       "      <th>0</th>\n",
       "      <td>Philadelphia</td>\n",
       "      <td>1.50</td>\n",
       "      <td>PA</td>\n",
       "      <td>41</td>\n",
       "    </tr>\n",
       "    <tr>\n",
       "      <th>1</th>\n",
       "      <td>Boston</td>\n",
       "      <td>0.60</td>\n",
       "      <td>MA</td>\n",
       "      <td>19</td>\n",
       "    </tr>\n",
       "    <tr>\n",
       "      <th>2</th>\n",
       "      <td>Baltimore</td>\n",
       "      <td>0.60</td>\n",
       "      <td>MD</td>\n",
       "      <td>24</td>\n",
       "    </tr>\n",
       "    <tr>\n",
       "      <th>3</th>\n",
       "      <td>Orlando</td>\n",
       "      <td>2.35</td>\n",
       "      <td>FL</td>\n",
       "      <td>66</td>\n",
       "    </tr>\n",
       "  </tbody>\n",
       "</table>\n",
       "</div>"
      ],
      "text/plain": [
       "           City  Population State  Visitors\n",
       "0  Philadelphia        1.50    PA        41\n",
       "1        Boston        0.60    MA        19\n",
       "2     Baltimore        0.60    MD        24\n",
       "3       Orlando        2.35    FL        66"
      ]
     },
     "execution_count": 11,
     "metadata": {},
     "output_type": "execute_result"
    }
   ],
   "source": [
    "df = pd.DataFrame(data)\n",
    "df"
   ]
  },
  {
   "cell_type": "code",
   "execution_count": 12,
   "metadata": {
    "collapsed": false
   },
   "outputs": [
    {
     "data": {
      "text/html": [
       "<div>\n",
       "<table border=\"1\" class=\"dataframe\">\n",
       "  <thead>\n",
       "    <tr style=\"text-align: right;\">\n",
       "      <th></th>\n",
       "      <th>City</th>\n",
       "      <th>Population</th>\n",
       "      <th>State</th>\n",
       "      <th>Visitors</th>\n",
       "    </tr>\n",
       "    <tr>\n",
       "      <th>State</th>\n",
       "      <th></th>\n",
       "      <th></th>\n",
       "      <th></th>\n",
       "      <th></th>\n",
       "    </tr>\n",
       "  </thead>\n",
       "  <tbody>\n",
       "    <tr>\n",
       "      <th>PA</th>\n",
       "      <td>Philadelphia</td>\n",
       "      <td>1.50</td>\n",
       "      <td>PA</td>\n",
       "      <td>41</td>\n",
       "    </tr>\n",
       "    <tr>\n",
       "      <th>MA</th>\n",
       "      <td>Boston</td>\n",
       "      <td>0.60</td>\n",
       "      <td>MA</td>\n",
       "      <td>19</td>\n",
       "    </tr>\n",
       "    <tr>\n",
       "      <th>MD</th>\n",
       "      <td>Baltimore</td>\n",
       "      <td>0.60</td>\n",
       "      <td>MD</td>\n",
       "      <td>24</td>\n",
       "    </tr>\n",
       "    <tr>\n",
       "      <th>FL</th>\n",
       "      <td>Orlando</td>\n",
       "      <td>2.35</td>\n",
       "      <td>FL</td>\n",
       "      <td>66</td>\n",
       "    </tr>\n",
       "  </tbody>\n",
       "</table>\n",
       "</div>"
      ],
      "text/plain": [
       "               City  Population State  Visitors\n",
       "State                                          \n",
       "PA     Philadelphia        1.50    PA        41\n",
       "MA           Boston        0.60    MA        19\n",
       "MD        Baltimore        0.60    MD        24\n",
       "FL          Orlando        2.35    FL        66"
      ]
     },
     "execution_count": 12,
     "metadata": {},
     "output_type": "execute_result"
    }
   ],
   "source": [
    "df.index = df[\"State\"]\n",
    "df"
   ]
  },
  {
   "cell_type": "code",
   "execution_count": 13,
   "metadata": {
    "collapsed": false
   },
   "outputs": [
    {
     "name": "stdout",
     "output_type": "stream",
     "text": [
      "st PA\n",
      "row City          Philadelphia\n",
      "Population             1.5\n",
      "State                   PA\n",
      "Visitors                41\n",
      "Name: PA, dtype: object\n",
      "st MA\n",
      "row City          Boston\n",
      "Population       0.6\n",
      "State             MA\n",
      "Visitors          19\n",
      "Name: MA, dtype: object\n",
      "st MD\n",
      "row City          Baltimore\n",
      "Population          0.6\n",
      "State                MD\n",
      "Visitors             24\n",
      "Name: MD, dtype: object\n",
      "st FL\n",
      "row City          Orlando\n",
      "Population       2.35\n",
      "State              FL\n",
      "Visitors           66\n",
      "Name: FL, dtype: object\n"
     ]
    }
   ],
   "source": [
    "# for loop and iterrows()\n",
    "# Iterate over DataFrame rows as (index, Series) pairs\n",
    "\n",
    "for st, row in df.iterrows():\n",
    "    print(\"st\",st)\n",
    "    print(\"row\",row)"
   ]
  },
  {
   "cell_type": "code",
   "execution_count": 14,
   "metadata": {
    "collapsed": false
   },
   "outputs": [
    {
     "name": "stdout",
     "output_type": "stream",
     "text": [
      "PA: Philadelphia\n",
      "MA: Boston\n",
      "MD: Baltimore\n",
      "FL: Orlando\n"
     ]
    }
   ],
   "source": [
    "# Now lets get the data we need\n",
    "for st, row in df.iterrows():\n",
    "    print(st + \": \" + row[\"City\"])"
   ]
  },
  {
   "cell_type": "code",
   "execution_count": 16,
   "metadata": {
    "collapsed": false
   },
   "outputs": [
    {
     "data": {
      "text/html": [
       "<div>\n",
       "<table border=\"1\" class=\"dataframe\">\n",
       "  <thead>\n",
       "    <tr style=\"text-align: right;\">\n",
       "      <th></th>\n",
       "      <th>City</th>\n",
       "      <th>Population</th>\n",
       "      <th>State</th>\n",
       "      <th>Visitors</th>\n",
       "      <th>city_length</th>\n",
       "    </tr>\n",
       "    <tr>\n",
       "      <th>State</th>\n",
       "      <th></th>\n",
       "      <th></th>\n",
       "      <th></th>\n",
       "      <th></th>\n",
       "      <th></th>\n",
       "    </tr>\n",
       "  </thead>\n",
       "  <tbody>\n",
       "    <tr>\n",
       "      <th>PA</th>\n",
       "      <td>Philadelphia</td>\n",
       "      <td>1.50</td>\n",
       "      <td>PA</td>\n",
       "      <td>41</td>\n",
       "      <td>12.0</td>\n",
       "    </tr>\n",
       "    <tr>\n",
       "      <th>MA</th>\n",
       "      <td>Boston</td>\n",
       "      <td>0.60</td>\n",
       "      <td>MA</td>\n",
       "      <td>19</td>\n",
       "      <td>6.0</td>\n",
       "    </tr>\n",
       "    <tr>\n",
       "      <th>MD</th>\n",
       "      <td>Baltimore</td>\n",
       "      <td>0.60</td>\n",
       "      <td>MD</td>\n",
       "      <td>24</td>\n",
       "      <td>9.0</td>\n",
       "    </tr>\n",
       "    <tr>\n",
       "      <th>FL</th>\n",
       "      <td>Orlando</td>\n",
       "      <td>2.35</td>\n",
       "      <td>FL</td>\n",
       "      <td>66</td>\n",
       "      <td>7.0</td>\n",
       "    </tr>\n",
       "  </tbody>\n",
       "</table>\n",
       "</div>"
      ],
      "text/plain": [
       "               City  Population State  Visitors  city_length\n",
       "State                                                       \n",
       "PA     Philadelphia        1.50    PA        41         12.0\n",
       "MA           Boston        0.60    MA        19          6.0\n",
       "MD        Baltimore        0.60    MD        24          9.0\n",
       "FL          Orlando        2.35    FL        66          7.0"
      ]
     },
     "execution_count": 16,
     "metadata": {},
     "output_type": "execute_result"
    }
   ],
   "source": [
    "# now lets do some math, suppose we need to count chr in City and save it in a new col\n",
    "for st, row in df.iterrows():\n",
    "    df.loc[st, \"city_length\"] = len(row[\"City\"])\n",
    "df"
   ]
  },
  {
   "cell_type": "code",
   "execution_count": 17,
   "metadata": {
    "collapsed": false
   },
   "outputs": [
    {
     "data": {
      "text/html": [
       "<div>\n",
       "<table border=\"1\" class=\"dataframe\">\n",
       "  <thead>\n",
       "    <tr style=\"text-align: right;\">\n",
       "      <th></th>\n",
       "      <th>City</th>\n",
       "      <th>Population</th>\n",
       "      <th>State</th>\n",
       "      <th>Visitors</th>\n",
       "      <th>city_length</th>\n",
       "      <th>new_city_length</th>\n",
       "    </tr>\n",
       "    <tr>\n",
       "      <th>State</th>\n",
       "      <th></th>\n",
       "      <th></th>\n",
       "      <th></th>\n",
       "      <th></th>\n",
       "      <th></th>\n",
       "      <th></th>\n",
       "    </tr>\n",
       "  </thead>\n",
       "  <tbody>\n",
       "    <tr>\n",
       "      <th>PA</th>\n",
       "      <td>Philadelphia</td>\n",
       "      <td>1.50</td>\n",
       "      <td>PA</td>\n",
       "      <td>41</td>\n",
       "      <td>12.0</td>\n",
       "      <td>12</td>\n",
       "    </tr>\n",
       "    <tr>\n",
       "      <th>MA</th>\n",
       "      <td>Boston</td>\n",
       "      <td>0.60</td>\n",
       "      <td>MA</td>\n",
       "      <td>19</td>\n",
       "      <td>6.0</td>\n",
       "      <td>6</td>\n",
       "    </tr>\n",
       "    <tr>\n",
       "      <th>MD</th>\n",
       "      <td>Baltimore</td>\n",
       "      <td>0.60</td>\n",
       "      <td>MD</td>\n",
       "      <td>24</td>\n",
       "      <td>9.0</td>\n",
       "      <td>9</td>\n",
       "    </tr>\n",
       "    <tr>\n",
       "      <th>FL</th>\n",
       "      <td>Orlando</td>\n",
       "      <td>2.35</td>\n",
       "      <td>FL</td>\n",
       "      <td>66</td>\n",
       "      <td>7.0</td>\n",
       "      <td>7</td>\n",
       "    </tr>\n",
       "  </tbody>\n",
       "</table>\n",
       "</div>"
      ],
      "text/plain": [
       "               City  Population State  Visitors  city_length  new_city_length\n",
       "State                                                                        \n",
       "PA     Philadelphia        1.50    PA        41         12.0               12\n",
       "MA           Boston        0.60    MA        19          6.0                6\n",
       "MD        Baltimore        0.60    MD        24          9.0                9\n",
       "FL          Orlando        2.35    FL        66          7.0                7"
      ]
     },
     "execution_count": 17,
     "metadata": {},
     "output_type": "execute_result"
    }
   ],
   "source": [
    "# however it is not the most efficient way to do it especially for a big data set\n",
    "\n",
    "df[\"new_city_length\"] = df[\"City\"].apply(len)\n",
    "df"
   ]
  },
  {
   "cell_type": "code",
   "execution_count": 19,
   "metadata": {
    "collapsed": false
   },
   "outputs": [
    {
     "name": "stdout",
     "output_type": "stream",
     "text": [
      "<class 'pandas.core.frame.DataFrame'>\n",
      "Index: 4 entries, PA to FL\n",
      "Data columns (total 6 columns):\n",
      "City               4 non-null object\n",
      "Population         4 non-null float64\n",
      "State              4 non-null object\n",
      "Visitors           4 non-null int64\n",
      "city_length        4 non-null float64\n",
      "new_city_length    4 non-null int64\n",
      "dtypes: float64(2), int64(2), object(2)\n",
      "memory usage: 224.0+ bytes\n"
     ]
    }
   ],
   "source": [
    "df.info()"
   ]
  },
  {
   "cell_type": "code",
   "execution_count": 20,
   "metadata": {
    "collapsed": false
   },
   "outputs": [
    {
     "data": {
      "text/plain": [
       "State\n",
       "PA     True\n",
       "MA    False\n",
       "MD     True\n",
       "FL    False\n",
       "Name: new_city_length, dtype: bool"
      ]
     },
     "execution_count": 20,
     "metadata": {},
     "output_type": "execute_result"
    }
   ],
   "source": [
    "# filtering DataFrame \n",
    "df.new_city_length > 7"
   ]
  },
  {
   "cell_type": "code",
   "execution_count": 21,
   "metadata": {
    "collapsed": false
   },
   "outputs": [
    {
     "data": {
      "text/html": [
       "<div>\n",
       "<table border=\"1\" class=\"dataframe\">\n",
       "  <thead>\n",
       "    <tr style=\"text-align: right;\">\n",
       "      <th></th>\n",
       "      <th>City</th>\n",
       "      <th>Population</th>\n",
       "      <th>State</th>\n",
       "      <th>Visitors</th>\n",
       "      <th>city_length</th>\n",
       "      <th>new_city_length</th>\n",
       "    </tr>\n",
       "    <tr>\n",
       "      <th>State</th>\n",
       "      <th></th>\n",
       "      <th></th>\n",
       "      <th></th>\n",
       "      <th></th>\n",
       "      <th></th>\n",
       "      <th></th>\n",
       "    </tr>\n",
       "  </thead>\n",
       "  <tbody>\n",
       "    <tr>\n",
       "      <th>PA</th>\n",
       "      <td>Philadelphia</td>\n",
       "      <td>1.5</td>\n",
       "      <td>PA</td>\n",
       "      <td>41</td>\n",
       "      <td>12.0</td>\n",
       "      <td>12</td>\n",
       "    </tr>\n",
       "    <tr>\n",
       "      <th>MD</th>\n",
       "      <td>Baltimore</td>\n",
       "      <td>0.6</td>\n",
       "      <td>MD</td>\n",
       "      <td>24</td>\n",
       "      <td>9.0</td>\n",
       "      <td>9</td>\n",
       "    </tr>\n",
       "  </tbody>\n",
       "</table>\n",
       "</div>"
      ],
      "text/plain": [
       "               City  Population State  Visitors  city_length  new_city_length\n",
       "State                                                                        \n",
       "PA     Philadelphia         1.5    PA        41         12.0               12\n",
       "MD        Baltimore         0.6    MD        24          9.0                9"
      ]
     },
     "execution_count": 21,
     "metadata": {},
     "output_type": "execute_result"
    }
   ],
   "source": [
    "# custom filtering\n",
    "greater_than = df.new_city_length > 7\n",
    "df[greater_than]"
   ]
  },
  {
   "cell_type": "code",
   "execution_count": 22,
   "metadata": {
    "collapsed": false
   },
   "outputs": [
    {
     "data": {
      "text/html": [
       "<div>\n",
       "<table border=\"1\" class=\"dataframe\">\n",
       "  <thead>\n",
       "    <tr style=\"text-align: right;\">\n",
       "      <th></th>\n",
       "      <th>City</th>\n",
       "      <th>Population</th>\n",
       "      <th>State</th>\n",
       "      <th>Visitors</th>\n",
       "      <th>city_length</th>\n",
       "      <th>new_city_length</th>\n",
       "    </tr>\n",
       "    <tr>\n",
       "      <th>State</th>\n",
       "      <th></th>\n",
       "      <th></th>\n",
       "      <th></th>\n",
       "      <th></th>\n",
       "      <th></th>\n",
       "      <th></th>\n",
       "    </tr>\n",
       "  </thead>\n",
       "  <tbody>\n",
       "    <tr>\n",
       "      <th>PA</th>\n",
       "      <td>Philadelphia</td>\n",
       "      <td>1.5</td>\n",
       "      <td>PA</td>\n",
       "      <td>41</td>\n",
       "      <td>12.0</td>\n",
       "      <td>12</td>\n",
       "    </tr>\n",
       "    <tr>\n",
       "      <th>MD</th>\n",
       "      <td>Baltimore</td>\n",
       "      <td>0.6</td>\n",
       "      <td>MD</td>\n",
       "      <td>24</td>\n",
       "      <td>9.0</td>\n",
       "      <td>9</td>\n",
       "    </tr>\n",
       "  </tbody>\n",
       "</table>\n",
       "</div>"
      ],
      "text/plain": [
       "               City  Population State  Visitors  city_length  new_city_length\n",
       "State                                                                        \n",
       "PA     Philadelphia         1.5    PA        41         12.0               12\n",
       "MD        Baltimore         0.6    MD        24          9.0                9"
      ]
     },
     "execution_count": 22,
     "metadata": {},
     "output_type": "execute_result"
    }
   ],
   "source": [
    "# or we could do\n",
    "df[df.new_city_length > 7]"
   ]
  },
  {
   "cell_type": "code",
   "execution_count": 23,
   "metadata": {
    "collapsed": false
   },
   "outputs": [
    {
     "data": {
      "text/html": [
       "<div>\n",
       "<table border=\"1\" class=\"dataframe\">\n",
       "  <thead>\n",
       "    <tr style=\"text-align: right;\">\n",
       "      <th></th>\n",
       "      <th>City</th>\n",
       "      <th>Population</th>\n",
       "      <th>State</th>\n",
       "      <th>Visitors</th>\n",
       "      <th>city_length</th>\n",
       "      <th>new_city_length</th>\n",
       "    </tr>\n",
       "    <tr>\n",
       "      <th>State</th>\n",
       "      <th></th>\n",
       "      <th></th>\n",
       "      <th></th>\n",
       "      <th></th>\n",
       "      <th></th>\n",
       "      <th></th>\n",
       "    </tr>\n",
       "  </thead>\n",
       "  <tbody>\n",
       "    <tr>\n",
       "      <th>MD</th>\n",
       "      <td>Baltimore</td>\n",
       "      <td>0.6</td>\n",
       "      <td>MD</td>\n",
       "      <td>24</td>\n",
       "      <td>9.0</td>\n",
       "      <td>9</td>\n",
       "    </tr>\n",
       "  </tbody>\n",
       "</table>\n",
       "</div>"
      ],
      "text/plain": [
       "            City  Population State  Visitors  city_length  new_city_length\n",
       "State                                                                     \n",
       "MD     Baltimore         0.6    MD        24          9.0                9"
      ]
     },
     "execution_count": 23,
     "metadata": {},
     "output_type": "execute_result"
    }
   ],
   "source": [
    "# we can combine filters and\n",
    "df[(df.new_city_length > 7) & (df.new_city_length < 10)]"
   ]
  },
  {
   "cell_type": "code",
   "execution_count": 24,
   "metadata": {
    "collapsed": false
   },
   "outputs": [
    {
     "data": {
      "text/html": [
       "<div>\n",
       "<table border=\"1\" class=\"dataframe\">\n",
       "  <thead>\n",
       "    <tr style=\"text-align: right;\">\n",
       "      <th></th>\n",
       "      <th>City</th>\n",
       "      <th>Population</th>\n",
       "      <th>State</th>\n",
       "      <th>Visitors</th>\n",
       "      <th>city_length</th>\n",
       "      <th>new_city_length</th>\n",
       "    </tr>\n",
       "    <tr>\n",
       "      <th>State</th>\n",
       "      <th></th>\n",
       "      <th></th>\n",
       "      <th></th>\n",
       "      <th></th>\n",
       "      <th></th>\n",
       "      <th></th>\n",
       "    </tr>\n",
       "  </thead>\n",
       "  <tbody>\n",
       "    <tr>\n",
       "      <th>PA</th>\n",
       "      <td>Philadelphia</td>\n",
       "      <td>1.5</td>\n",
       "      <td>PA</td>\n",
       "      <td>41</td>\n",
       "      <td>12.0</td>\n",
       "      <td>12</td>\n",
       "    </tr>\n",
       "    <tr>\n",
       "      <th>MD</th>\n",
       "      <td>Baltimore</td>\n",
       "      <td>0.6</td>\n",
       "      <td>MD</td>\n",
       "      <td>24</td>\n",
       "      <td>9.0</td>\n",
       "      <td>9</td>\n",
       "    </tr>\n",
       "  </tbody>\n",
       "</table>\n",
       "</div>"
      ],
      "text/plain": [
       "               City  Population State  Visitors  city_length  new_city_length\n",
       "State                                                                        \n",
       "PA     Philadelphia         1.5    PA        41         12.0               12\n",
       "MD        Baltimore         0.6    MD        24          9.0                9"
      ]
     },
     "execution_count": 24,
     "metadata": {},
     "output_type": "execute_result"
    }
   ],
   "source": [
    "# we can combine filters or\n",
    "df[(df.new_city_length == 9) | (df.new_city_length >= 10)]"
   ]
  },
  {
   "cell_type": "code",
   "execution_count": 25,
   "metadata": {
    "collapsed": false
   },
   "outputs": [
    {
     "data": {
      "text/plain": [
       "State\n",
       "FL    Orlando\n",
       "Name: City, dtype: object"
      ]
     },
     "execution_count": 25,
     "metadata": {},
     "output_type": "execute_result"
    }
   ],
   "source": [
    "# filtering a column based on another\n",
    "df.City[df.new_city_length == 7]"
   ]
  },
  {
   "cell_type": "code",
   "execution_count": 27,
   "metadata": {
    "collapsed": true
   },
   "outputs": [],
   "source": [
    "# from ipykernel import kernelapp as app"
   ]
  },
  {
   "cell_type": "code",
   "execution_count": 28,
   "metadata": {
    "collapsed": false
   },
   "outputs": [
    {
     "data": {
      "text/html": [
       "<div>\n",
       "<table border=\"1\" class=\"dataframe\">\n",
       "  <thead>\n",
       "    <tr style=\"text-align: right;\">\n",
       "      <th></th>\n",
       "      <th>City</th>\n",
       "      <th>Population</th>\n",
       "      <th>State</th>\n",
       "      <th>Visitors</th>\n",
       "      <th>city_length</th>\n",
       "      <th>new_city_length</th>\n",
       "    </tr>\n",
       "    <tr>\n",
       "      <th>State</th>\n",
       "      <th></th>\n",
       "      <th></th>\n",
       "      <th></th>\n",
       "      <th></th>\n",
       "      <th></th>\n",
       "      <th></th>\n",
       "    </tr>\n",
       "  </thead>\n",
       "  <tbody>\n",
       "    <tr>\n",
       "      <th>PA</th>\n",
       "      <td>Philadelphia</td>\n",
       "      <td>1.50</td>\n",
       "      <td>PA</td>\n",
       "      <td>41</td>\n",
       "      <td>12.0</td>\n",
       "      <td>12</td>\n",
       "    </tr>\n",
       "    <tr>\n",
       "      <th>MA</th>\n",
       "      <td>Boston</td>\n",
       "      <td>0.60</td>\n",
       "      <td>MA</td>\n",
       "      <td>76</td>\n",
       "      <td>6.0</td>\n",
       "      <td>6</td>\n",
       "    </tr>\n",
       "    <tr>\n",
       "      <th>MD</th>\n",
       "      <td>Baltimore</td>\n",
       "      <td>0.60</td>\n",
       "      <td>MD</td>\n",
       "      <td>24</td>\n",
       "      <td>9.0</td>\n",
       "      <td>9</td>\n",
       "    </tr>\n",
       "    <tr>\n",
       "      <th>FL</th>\n",
       "      <td>Orlando</td>\n",
       "      <td>2.35</td>\n",
       "      <td>FL</td>\n",
       "      <td>66</td>\n",
       "      <td>7.0</td>\n",
       "      <td>7</td>\n",
       "    </tr>\n",
       "  </tbody>\n",
       "</table>\n",
       "</div>"
      ],
      "text/plain": [
       "               City  Population State  Visitors  city_length  new_city_length\n",
       "State                                                                        \n",
       "PA     Philadelphia        1.50    PA        41         12.0               12\n",
       "MA           Boston        0.60    MA        76          6.0                6\n",
       "MD        Baltimore        0.60    MD        24          9.0                9\n",
       "FL          Orlando        2.35    FL        66          7.0                7"
      ]
     },
     "execution_count": 28,
     "metadata": {},
     "output_type": "execute_result"
    }
   ],
   "source": [
    "# modifying a column based on another\n",
    "df.Visitors[df.new_city_length == 6] *= 2\n",
    "df"
   ]
  },
  {
   "cell_type": "code",
   "execution_count": 29,
   "metadata": {
    "collapsed": false
   },
   "outputs": [
    {
     "data": {
      "text/plain": [
       "State\n",
       "PA    0.41\n",
       "MA    0.76\n",
       "MD    0.24\n",
       "FL    0.66\n",
       "Name: Visitors, dtype: float64"
      ]
     },
     "execution_count": 29,
     "metadata": {},
     "output_type": "execute_result"
    }
   ],
   "source": [
    "# creating methods within DataFrames\n",
    "def hundreds(n):\n",
    "    return n/100\n",
    "\n",
    "df[\"Visitors\"].apply(hundreds)"
   ]
  },
  {
   "cell_type": "code",
   "execution_count": 30,
   "metadata": {
    "collapsed": false
   },
   "outputs": [
    {
     "data": {
      "text/plain": [
       "State\n",
       "PA    0.41\n",
       "MA    0.76\n",
       "MD    0.24\n",
       "FL    0.66\n",
       "Name: Visitors, dtype: float64"
      ]
     },
     "execution_count": 30,
     "metadata": {},
     "output_type": "execute_result"
    }
   ],
   "source": [
    "# same result with lambda function\n",
    "df[\"Visitors\"].apply(lambda n: n/100)"
   ]
  },
  {
   "cell_type": "code",
   "execution_count": 31,
   "metadata": {
    "collapsed": false
   },
   "outputs": [
    {
     "data": {
      "text/html": [
       "<div>\n",
       "<table border=\"1\" class=\"dataframe\">\n",
       "  <thead>\n",
       "    <tr style=\"text-align: right;\">\n",
       "      <th></th>\n",
       "      <th>City</th>\n",
       "      <th>Population</th>\n",
       "      <th>State</th>\n",
       "      <th>Visitors</th>\n",
       "      <th>city_length</th>\n",
       "      <th>new_city_length</th>\n",
       "      <th>Visitors/hundreds</th>\n",
       "    </tr>\n",
       "    <tr>\n",
       "      <th>State</th>\n",
       "      <th></th>\n",
       "      <th></th>\n",
       "      <th></th>\n",
       "      <th></th>\n",
       "      <th></th>\n",
       "      <th></th>\n",
       "      <th></th>\n",
       "    </tr>\n",
       "  </thead>\n",
       "  <tbody>\n",
       "    <tr>\n",
       "      <th>PA</th>\n",
       "      <td>Philadelphia</td>\n",
       "      <td>1.50</td>\n",
       "      <td>PA</td>\n",
       "      <td>41</td>\n",
       "      <td>12.0</td>\n",
       "      <td>12</td>\n",
       "      <td>0.41</td>\n",
       "    </tr>\n",
       "    <tr>\n",
       "      <th>MA</th>\n",
       "      <td>Boston</td>\n",
       "      <td>0.60</td>\n",
       "      <td>MA</td>\n",
       "      <td>76</td>\n",
       "      <td>6.0</td>\n",
       "      <td>6</td>\n",
       "      <td>0.76</td>\n",
       "    </tr>\n",
       "    <tr>\n",
       "      <th>MD</th>\n",
       "      <td>Baltimore</td>\n",
       "      <td>0.60</td>\n",
       "      <td>MD</td>\n",
       "      <td>24</td>\n",
       "      <td>9.0</td>\n",
       "      <td>9</td>\n",
       "      <td>0.24</td>\n",
       "    </tr>\n",
       "    <tr>\n",
       "      <th>FL</th>\n",
       "      <td>Orlando</td>\n",
       "      <td>2.35</td>\n",
       "      <td>FL</td>\n",
       "      <td>66</td>\n",
       "      <td>7.0</td>\n",
       "      <td>7</td>\n",
       "      <td>0.66</td>\n",
       "    </tr>\n",
       "  </tbody>\n",
       "</table>\n",
       "</div>"
      ],
      "text/plain": [
       "               City  Population State  Visitors  city_length  new_city_length  \\\n",
       "State                                                                           \n",
       "PA     Philadelphia        1.50    PA        41         12.0               12   \n",
       "MA           Boston        0.60    MA        76          6.0                6   \n",
       "MD        Baltimore        0.60    MD        24          9.0                9   \n",
       "FL          Orlando        2.35    FL        66          7.0                7   \n",
       "\n",
       "       Visitors/hundreds  \n",
       "State                     \n",
       "PA                  0.41  \n",
       "MA                  0.76  \n",
       "MD                  0.24  \n",
       "FL                  0.66  "
      ]
     },
     "execution_count": 31,
     "metadata": {},
     "output_type": "execute_result"
    }
   ],
   "source": [
    "# now we can store this data\n",
    "df[\"Visitors/hundreds\"] = df.Visitors.apply(lambda n: n/100)\n",
    "df"
   ]
  },
  {
   "cell_type": "code",
   "execution_count": 32,
   "metadata": {
    "collapsed": false
   },
   "outputs": [
    {
     "data": {
      "text/html": [
       "<div>\n",
       "<table border=\"1\" class=\"dataframe\">\n",
       "  <thead>\n",
       "    <tr style=\"text-align: right;\">\n",
       "      <th></th>\n",
       "      <th>City</th>\n",
       "      <th>Population</th>\n",
       "      <th>State</th>\n",
       "      <th>Visitors</th>\n",
       "      <th>city_length</th>\n",
       "      <th>new_city_length</th>\n",
       "      <th>Visitors/hundreds</th>\n",
       "    </tr>\n",
       "    <tr>\n",
       "      <th>State</th>\n",
       "      <th></th>\n",
       "      <th></th>\n",
       "      <th></th>\n",
       "      <th></th>\n",
       "      <th></th>\n",
       "      <th></th>\n",
       "      <th></th>\n",
       "    </tr>\n",
       "  </thead>\n",
       "  <tbody>\n",
       "    <tr>\n",
       "      <th>PA</th>\n",
       "      <td>PHILADELPHIA</td>\n",
       "      <td>1.50</td>\n",
       "      <td>PA</td>\n",
       "      <td>41</td>\n",
       "      <td>12.0</td>\n",
       "      <td>12</td>\n",
       "      <td>0.41</td>\n",
       "    </tr>\n",
       "    <tr>\n",
       "      <th>MA</th>\n",
       "      <td>BOSTON</td>\n",
       "      <td>0.60</td>\n",
       "      <td>MA</td>\n",
       "      <td>76</td>\n",
       "      <td>6.0</td>\n",
       "      <td>6</td>\n",
       "      <td>0.76</td>\n",
       "    </tr>\n",
       "    <tr>\n",
       "      <th>MD</th>\n",
       "      <td>BALTIMORE</td>\n",
       "      <td>0.60</td>\n",
       "      <td>MD</td>\n",
       "      <td>24</td>\n",
       "      <td>9.0</td>\n",
       "      <td>9</td>\n",
       "      <td>0.24</td>\n",
       "    </tr>\n",
       "    <tr>\n",
       "      <th>FL</th>\n",
       "      <td>ORLANDO</td>\n",
       "      <td>2.35</td>\n",
       "      <td>FL</td>\n",
       "      <td>66</td>\n",
       "      <td>7.0</td>\n",
       "      <td>7</td>\n",
       "      <td>0.66</td>\n",
       "    </tr>\n",
       "  </tbody>\n",
       "</table>\n",
       "</div>"
      ],
      "text/plain": [
       "               City  Population State  Visitors  city_length  new_city_length  \\\n",
       "State                                                                           \n",
       "PA     PHILADELPHIA        1.50    PA        41         12.0               12   \n",
       "MA           BOSTON        0.60    MA        76          6.0                6   \n",
       "MD        BALTIMORE        0.60    MD        24          9.0                9   \n",
       "FL          ORLANDO        2.35    FL        66          7.0                7   \n",
       "\n",
       "       Visitors/hundreds  \n",
       "State                     \n",
       "PA                  0.41  \n",
       "MA                  0.76  \n",
       "MD                  0.24  \n",
       "FL                  0.66  "
      ]
     },
     "execution_count": 32,
     "metadata": {},
     "output_type": "execute_result"
    }
   ],
   "source": [
    "# manipulating strings\n",
    "df.City = df.City.str.upper()\n",
    "df"
   ]
  },
  {
   "cell_type": "code",
   "execution_count": 33,
   "metadata": {
    "collapsed": false
   },
   "outputs": [
    {
     "data": {
      "text/html": [
       "<div>\n",
       "<table border=\"1\" class=\"dataframe\">\n",
       "  <thead>\n",
       "    <tr style=\"text-align: right;\">\n",
       "      <th></th>\n",
       "      <th>City</th>\n",
       "      <th>Population</th>\n",
       "      <th>State</th>\n",
       "      <th>Visitors</th>\n",
       "      <th>city_length</th>\n",
       "      <th>new_city_length</th>\n",
       "      <th>Visitors/hundreds</th>\n",
       "      <th>Total_poulation</th>\n",
       "    </tr>\n",
       "    <tr>\n",
       "      <th>State</th>\n",
       "      <th></th>\n",
       "      <th></th>\n",
       "      <th></th>\n",
       "      <th></th>\n",
       "      <th></th>\n",
       "      <th></th>\n",
       "      <th></th>\n",
       "      <th></th>\n",
       "    </tr>\n",
       "  </thead>\n",
       "  <tbody>\n",
       "    <tr>\n",
       "      <th>PA</th>\n",
       "      <td>PHILADELPHIA</td>\n",
       "      <td>1.50</td>\n",
       "      <td>PA</td>\n",
       "      <td>41</td>\n",
       "      <td>12.0</td>\n",
       "      <td>12</td>\n",
       "      <td>0.41</td>\n",
       "      <td>42.50</td>\n",
       "    </tr>\n",
       "    <tr>\n",
       "      <th>MA</th>\n",
       "      <td>BOSTON</td>\n",
       "      <td>0.60</td>\n",
       "      <td>MA</td>\n",
       "      <td>76</td>\n",
       "      <td>6.0</td>\n",
       "      <td>6</td>\n",
       "      <td>0.76</td>\n",
       "      <td>76.60</td>\n",
       "    </tr>\n",
       "    <tr>\n",
       "      <th>MD</th>\n",
       "      <td>BALTIMORE</td>\n",
       "      <td>0.60</td>\n",
       "      <td>MD</td>\n",
       "      <td>24</td>\n",
       "      <td>9.0</td>\n",
       "      <td>9</td>\n",
       "      <td>0.24</td>\n",
       "      <td>24.60</td>\n",
       "    </tr>\n",
       "    <tr>\n",
       "      <th>FL</th>\n",
       "      <td>ORLANDO</td>\n",
       "      <td>2.35</td>\n",
       "      <td>FL</td>\n",
       "      <td>66</td>\n",
       "      <td>7.0</td>\n",
       "      <td>7</td>\n",
       "      <td>0.66</td>\n",
       "      <td>68.35</td>\n",
       "    </tr>\n",
       "  </tbody>\n",
       "</table>\n",
       "</div>"
      ],
      "text/plain": [
       "               City  Population State  Visitors  city_length  new_city_length  \\\n",
       "State                                                                           \n",
       "PA     PHILADELPHIA        1.50    PA        41         12.0               12   \n",
       "MA           BOSTON        0.60    MA        76          6.0                6   \n",
       "MD        BALTIMORE        0.60    MD        24          9.0                9   \n",
       "FL          ORLANDO        2.35    FL        66          7.0                7   \n",
       "\n",
       "       Visitors/hundreds  Total_poulation  \n",
       "State                                      \n",
       "PA                  0.41            42.50  \n",
       "MA                  0.76            76.60  \n",
       "MD                  0.24            24.60  \n",
       "FL                  0.66            68.35  "
      ]
     },
     "execution_count": 33,
     "metadata": {},
     "output_type": "execute_result"
    }
   ],
   "source": [
    "# columns calculations\n",
    "df[\"Total_poulation\"] = df.Population + df.Visitors\n",
    "df"
   ]
  },
  {
   "cell_type": "code",
   "execution_count": null,
   "metadata": {
    "collapsed": true
   },
   "outputs": [],
   "source": []
  }
 ],
 "metadata": {
  "kernelspec": {
   "display_name": "Python [default]",
   "language": "python",
   "name": "python3"
  },
  "language_info": {
   "codemirror_mode": {
    "name": "ipython",
    "version": 3
   },
   "file_extension": ".py",
   "mimetype": "text/x-python",
   "name": "python",
   "nbconvert_exporter": "python",
   "pygments_lexer": "ipython3",
   "version": "3.5.2"
  }
 },
 "nbformat": 4,
 "nbformat_minor": 1
}
